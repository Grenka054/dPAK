{
 "cells": [
  {
   "cell_type": "code",
   "execution_count": 1,
   "id": "029644ac",
   "metadata": {},
   "outputs": [
    {
     "name": "stdout",
     "output_type": "stream",
     "text": [
      "sus\n",
      "is a palindrome\n"
     ]
    }
   ],
   "source": [
    "# 1\n",
    "str_inp = str(input())\n",
    "new_str = str_inp[::-1]\n",
    "if str_inp == new_str:\n",
    "  print(\"is a palindrome\")\n",
    "else:\n",
    "  print(\"is not a palindrome\")"
   ]
  },
  {
   "cell_type": "code",
   "execution_count": 3,
   "id": "0ea7d37d",
   "metadata": {},
   "outputs": [
    {
     "name": "stdout",
     "output_type": "stream",
     "text": [
      "development of a software and hardware complex in the Python language\n",
      "development\n"
     ]
    }
   ],
   "source": [
    "# 2\n",
    "str_inp = str(input())\n",
    "words = str_inp.split(' ')\n",
    "max_index = 0\n",
    "for i in range(1, len(words)):\n",
    "    if len(words[i]) > len(words[max_index]):\n",
    "        max_index = i\n",
    "print(words[max_index])"
   ]
  },
  {
   "cell_type": "code",
   "execution_count": 5,
   "id": "f27a15bf",
   "metadata": {},
   "outputs": [
    {
     "name": "stdout",
     "output_type": "stream",
     "text": [
      "[43, 291, 10, 57, 144, 1, 389, 234, 119]\n",
      "3 even and 6 odd\n"
     ]
    }
   ],
   "source": [
    "# 3\n",
    "import random\n",
    "def num_count(inp_list):\n",
    "    odd = 0\n",
    "    even = 0\n",
    "    for number in inp_list:\n",
    "        if number % 2 == 0:\n",
    "            even += 1\n",
    "        else:\n",
    "            odd += 1\n",
    "    return even, odd\n",
    "\n",
    "\n",
    "nums = []\n",
    "amount = 9\n",
    "for i in range(amount):\n",
    "    num = random.randint(1, 420)\n",
    "    nums.append(num)\n",
    "print(nums)\n",
    "even, odd = num_count(nums)\n",
    "print(f\"{even} even and {odd} odd\")"
   ]
  },
  {
   "cell_type": "code",
   "execution_count": 6,
   "id": "dc8030ed",
   "metadata": {},
   "outputs": [
    {
     "name": "stdout",
     "output_type": "stream",
     "text": [
      "London is the capital of Great Britain.\n"
     ]
    }
   ],
   "source": [
    "# 4\n",
    "def replace_text(text, dictionary):\n",
    "    for key in dictionary.keys():\n",
    "        text = text.replace(key, str(dictionary[key]))\n",
    "    return text\n",
    "\n",
    "\n",
    "dictL = {\n",
    "    \"[City]\": \"London\",\n",
    "    \"[Country]\": \"Great Britain\",\n",
    "}\n",
    "string = \"[City] is the capital of [Country].\"\n",
    "print(replace_text(string, dictL))"
   ]
  },
  {
   "cell_type": "code",
   "execution_count": 7,
   "id": "e51a99fc",
   "metadata": {},
   "outputs": [
    {
     "name": "stdout",
     "output_type": "stream",
     "text": [
      "0 1 1 2 3 5 8 13 "
     ]
    }
   ],
   "source": [
    "# 5\n",
    "def fib(n):\n",
    "    if n <= 1:\n",
    "        return n\n",
    "    else:\n",
    "        return fib(n-1) + fib(n-2)\n",
    "\n",
    "n = 8\n",
    "for i in range(n):\n",
    "    print(fib(i), end=' ')"
   ]
  },
  {
   "cell_type": "code",
   "execution_count": 10,
   "id": "a8490509",
   "metadata": {},
   "outputs": [
    {
     "name": "stdout",
     "output_type": "stream",
     "text": [
      "strings: 7, words: 200, symbols: 1747\n"
     ]
    }
   ],
   "source": [
    "# 6\n",
    "with open('input.txt', encoding='UTF-8') as f:\n",
    "    text = f.read()\n",
    "strings = 1\n",
    "for i in text:\n",
    "    if i == '\\n':\n",
    "        strings += 1\n",
    "words = text.split()\n",
    "symbols = len(text) - strings + 1\n",
    "print(f\"strings: {strings}, words: {len(words)}, symbols: {symbols}\")"
   ]
  },
  {
   "cell_type": "code",
   "execution_count": 11,
   "id": "2bfa3a67",
   "metadata": {},
   "outputs": [
    {
     "name": "stdout",
     "output_type": "stream",
     "text": [
      "6\n",
      "18\n",
      "54\n",
      "162\n"
     ]
    }
   ],
   "source": [
    "# 7\n",
    "def geometric_progression(start, ratio):\n",
    "    while True:\n",
    "        start *= ratio\n",
    "        yield start\n",
    "\n",
    "\n",
    "generator = geometric_progression(2, 3)\n",
    "for i in range(4):\n",
    "    print(next(generator))\n"
   ]
  },
  {
   "cell_type": "code",
   "execution_count": null,
   "id": "b2802eb4",
   "metadata": {},
   "outputs": [],
   "source": []
  }
 ],
 "metadata": {
  "kernelspec": {
   "display_name": "Python 3 (ipykernel)",
   "language": "python",
   "name": "python3"
  },
  "language_info": {
   "codemirror_mode": {
    "name": "ipython",
    "version": 3
   },
   "file_extension": ".py",
   "mimetype": "text/x-python",
   "name": "python",
   "nbconvert_exporter": "python",
   "pygments_lexer": "ipython3",
   "version": "3.9.12"
  }
 },
 "nbformat": 4,
 "nbformat_minor": 5
}
