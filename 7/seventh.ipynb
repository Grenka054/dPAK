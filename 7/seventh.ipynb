{
 "cells": [
  {
   "cell_type": "code",
   "execution_count": 28,
   "outputs": [],
   "source": [
    "import numpy as np\n",
    "import cv2\n",
    "import os\n",
    "import random"
   ],
   "metadata": {
    "collapsed": false
   }
  },
  {
   "cell_type": "code",
   "execution_count": 29,
   "outputs": [],
   "source": [
    "# выбрать <amount> случайных пар и применить к ним аугментацию\n",
    "def get_random_images(fold_images, fold_masks, amount=1, size=(800, 800)):\n",
    "    for i in range(amount):\n",
    "        name = random.choice(os.listdir(fold_images))\n",
    "        path_im = os.path.join(fold_images, name)\n",
    "        path_mask = os.path.join(fold_masks, name)\n",
    "        im = cv2.imread(path_im)\n",
    "        mask = cv2.imread(path_mask)\n",
    "        yield random.choice([rotate, reflect, crop, blur])(im, mask)"
   ],
   "metadata": {
    "collapsed": false
   }
  },
  {
   "cell_type": "code",
   "execution_count": 30,
   "outputs": [],
   "source": [
    "# доступные функции для аугментации\n",
    "def rotate(im, mask):\n",
    "    angle = random.randint(-180, 180)\n",
    "    height, width, _  = im.shape\n",
    "    rot_mat = cv2.getRotationMatrix2D((height / 2, width / 2), angle, 1.0)\n",
    "    im = cv2.warpAffine(im, rot_mat, (height, width), flags=cv2.INTER_LINEAR)\n",
    "    mask = cv2.warpAffine(mask, rot_mat, (height, width), flags=cv2.INTER_LINEAR)\n",
    "    return im, mask\n",
    "\n",
    "def reflect(im, mask):\n",
    "    if bool(random.randint(0,1)):\n",
    "        return im[::-1], mask[::-1]\n",
    "    else:\n",
    "        return cv2.flip(im, 1), cv2.flip(mask, 1)\n",
    "\n",
    "def crop(im, mask):\n",
    "    height, width, _ = im.shape\n",
    "    x = np.random.randint(0, height / 2)\n",
    "    w = np.random.randint(25, height / 2)\n",
    "    y = np.random.randint(0, width / 2)\n",
    "    h = np.random.randint(25, width / 2)\n",
    "    im = im[x:x+w, y:y+h]\n",
    "    mask = mask[x:x+w, y:y+h]\n",
    "    return im, mask\n",
    "\n",
    "def blur(im, mask):\n",
    "    return cv2.medianBlur(im, 5), cv2.medianBlur(mask, 5)\n",
    "\n",
    "def resize_(im, mask, size):\n",
    "    return cv2.resize(im, size), cv2.resize(mask, size)"
   ],
   "metadata": {
    "collapsed": false
   }
  },
  {
   "cell_type": "code",
   "execution_count": 31,
   "outputs": [],
   "source": [
    "np.random.seed(435)\n",
    "fold_images = \"data/nails_segmentation/images\"\n",
    "fold_masks  = \"data/nails_segmentation/labels\"\n",
    "\n",
    "gen = get_random_images(fold_images, fold_masks, amount=15)\n",
    "nails = []\n",
    "for i in range(15):\n",
    "    nails.append(next(gen))\n",
    "\n",
    "# показ из 6 набора заданий\n",
    "ind_im = 0\n",
    "while True:\n",
    "    conc = np.concatenate(nails[ind_im], axis=1)\n",
    "    cv2.imshow(\"Nails. Use arrows to change image. Esc to exit\", conc)\n",
    "    key = cv2.waitKeyEx(0)\n",
    "    if key == 2424832 or key == ord(' ') or key == ord('a') or key == ord('A'):\n",
    "        ind_im = (ind_im - 1) % len(nails)\n",
    "    if key == 2555904 or key == ord('d') or key == ord('D'):\n",
    "        ind_im = (ind_im + 1) % len(nails)\n",
    "    if key == 27:\n",
    "        break\n",
    "cv2.destroyAllWindows()"
   ],
   "metadata": {
    "collapsed": false
   }
  },
  {
   "cell_type": "code",
   "execution_count": 31,
   "outputs": [],
   "source": [],
   "metadata": {
    "collapsed": false
   }
  }
 ],
 "metadata": {
  "kernelspec": {
   "display_name": "Python 3",
   "language": "python",
   "name": "python3"
  },
  "language_info": {
   "codemirror_mode": {
    "name": "ipython",
    "version": 2
   },
   "file_extension": ".py",
   "mimetype": "text/x-python",
   "name": "python",
   "nbconvert_exporter": "python",
   "pygments_lexer": "ipython2",
   "version": "2.7.6"
  }
 },
 "nbformat": 4,
 "nbformat_minor": 0
}
