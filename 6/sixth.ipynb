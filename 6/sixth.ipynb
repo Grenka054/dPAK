{
 "cells": [
  {
   "cell_type": "code",
   "execution_count": 1,
   "outputs": [],
   "source": [
    "import numpy as np\n",
    "import cv2\n",
    "import os"
   ],
   "metadata": {
    "collapsed": false
   }
  },
  {
   "cell_type": "markdown",
   "source": [
    "# 1 - 3"
   ],
   "metadata": {
    "collapsed": false
   }
  },
  {
   "cell_type": "code",
   "execution_count": 2,
   "outputs": [],
   "source": [
    "fold_images = \"data/images\"\n",
    "fold_masks  = \"data/labels\""
   ],
   "metadata": {
    "collapsed": false
   }
  },
  {
   "cell_type": "code",
   "execution_count": 3,
   "outputs": [
    {
     "name": "stdout",
     "output_type": "stream",
     "text": [
      "52\n"
     ]
    }
   ],
   "source": [
    "def apply_mask(source, mask):\n",
    "    green = np.zeros_like(mask)\n",
    "    green[:,:] = [0,255,0]\n",
    "    new_m = cv2.bitwise_and(green, cv2.bitwise_not(mask)) # make green background. opencv do not support alpha channel :(\n",
    "    masked = cv2.bitwise_and(source, mask) # apply_mask\n",
    "    return cv2.bitwise_or(new_m, masked)\n",
    "\n",
    "def draw_contours(source, mask):\n",
    "    image_gray = cv2.cvtColor(mask, cv2.COLOR_RGB2GRAY)\n",
    "    _, thresh = cv2.threshold(image_gray, 200, 255, cv2.THRESH_BINARY)\n",
    "    contours, hierarchy = cv2.findContours(thresh, cv2.RETR_TREE, cv2.CHAIN_APPROX_SIMPLE)\n",
    "    return cv2.drawContours(source, contours, -1, (0, 255, 0), 1)\n",
    "\n",
    "os.listdir(fold_images)\n",
    "list_res = []\n",
    "for name in os.listdir(fold_images):\n",
    "    path_im = os.path.join(fold_images, name)\n",
    "    path_mask = os.path.join(fold_masks, name)\n",
    "    im = cv2.imread(path_im)\n",
    "    mask = cv2.imread(path_mask)\n",
    "    masked = apply_mask(im, mask)\n",
    "    contoured = draw_contours(im, mask)\n",
    "    list_res.append((contoured, masked))\n",
    "print(len(list_res))"
   ],
   "metadata": {
    "collapsed": false
   }
  },
  {
   "cell_type": "code",
   "execution_count": 4,
   "outputs": [],
   "source": [
    "ind_im = 0\n",
    "while True:\n",
    "    conc = np.concatenate(list_res[ind_im], axis=1)\n",
    "    cv2.imshow(\"Nails. Use arrows to change image. Esc to exit\", conc)\n",
    "    key = cv2.waitKeyEx(0)\n",
    "    if key == 2424832 or key == ord(' ') or key == ord('a') or key == ord('A'):\n",
    "        ind_im = (ind_im - 1) % len(list_res)\n",
    "    if key == 2555904 or key == ord('d') or key == ord('D'):\n",
    "        ind_im = (ind_im + 1) % len(list_res)\n",
    "    if key == 27:\n",
    "        break\n",
    "cv2.destroyAllWindows()"
   ],
   "metadata": {
    "collapsed": false
   }
  },
  {
   "cell_type": "markdown",
   "source": [
    "# 4"
   ],
   "metadata": {
    "collapsed": false
   }
  },
  {
   "cell_type": "code",
   "execution_count": 5,
   "outputs": [],
   "source": [
    "import time\n",
    "path_video = \"data/Rick Astley - Never Gonna Give You Up (Official Music Video).mp4\"\n",
    "cap = cv2.VideoCapture(path_video)\n",
    "FPS = 25\n",
    "delay = 1000/FPS\n",
    "while True:\n",
    "    time_st = time.time()\n",
    "    ret, frame = cap.read()\n",
    "    if not ret:\n",
    "        cap = cv2.VideoCapture(path_video)\n",
    "        continue\n",
    "    frame = cv2.cvtColor(frame,cv2.COLOR_BGR2GRAY)\n",
    "    cv2.imshow(path_video[:-4].split('/')[-1], frame)\n",
    "    time_end = time.time()\n",
    "    timePerFrame = (time_end - time_st) * 1000 + 6\n",
    "    key = cv2.waitKey(int(delay - timePerFrame)) & 0xff\n",
    "    if key == 27:\n",
    "        break\n",
    "\n",
    "cv2.destroyAllWindows()"
   ],
   "metadata": {
    "collapsed": false
   }
  }
 ],
 "metadata": {
  "kernelspec": {
   "display_name": "Python 3",
   "language": "python",
   "name": "python3"
  },
  "language_info": {
   "codemirror_mode": {
    "name": "ipython",
    "version": 2
   },
   "file_extension": ".py",
   "mimetype": "text/x-python",
   "name": "python",
   "nbconvert_exporter": "python",
   "pygments_lexer": "ipython2",
   "version": "2.7.6"
  }
 },
 "nbformat": 4,
 "nbformat_minor": 0
}
