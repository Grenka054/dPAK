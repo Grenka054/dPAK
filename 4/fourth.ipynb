{
 "cells": [
  {
   "cell_type": "code",
   "execution_count": 22,
   "outputs": [],
   "source": [
    "# 1"
   ],
   "metadata": {
    "collapsed": false
   }
  },
  {
   "cell_type": "code",
   "execution_count": 23,
   "outputs": [],
   "source": [
    "import numpy as np"
   ],
   "metadata": {
    "collapsed": false
   }
  },
  {
   "cell_type": "code",
   "execution_count": 24,
   "outputs": [
    {
     "name": "stdout",
     "output_type": "stream",
     "text": [
      "array: [10  3 11 12  1  1 13  1  5  3 13  4 10  7  0  0  9  5  7  0  5  4 12  9\n",
      "  4 14  7  9  4  8  5  9  3  8  4 13  4 12  0 14 13 12  8  3  3  8  2  2\n",
      " 14  4 13 12 14  9  7  5  8 13 12  4]\n",
      "sorted: [11, 2, 2, 10, 10, 1, 1, 1, 0, 0, 0, 0, 7, 7, 7, 7, 14, 14, 14, 14, 3, 3, 3, 3, 3, 5, 5, 5, 5, 5, 8, 8, 8, 8, 8, 9, 9, 9, 9, 9, 12, 12, 12, 12, 12, 12, 13, 13, 13, 13, 13, 13, 4, 4, 4, 4, 4, 4, 4, 4]\n"
     ]
    }
   ],
   "source": [
    "from functools import reduce\n",
    "\n",
    "\n",
    "def reducer_concat(el_prev, el):\n",
    "        # el_prev — предшествующий элемент\n",
    "        # el — текущий элемент\n",
    "        return el_prev + [el[0]]*el[1]\n",
    "\n",
    "\n",
    "np.random.seed(18182)\n",
    "a = np.random.randint(15, size=60)\n",
    "print(f\"array: {a}\")\n",
    "uniq, counts = np.unique(a, return_counts=True)\n",
    "dictionary = dict((k, v) for k, v in zip(uniq, counts)) # {uniq : counts}\n",
    "dictionary = dict(sorted(dictionary.items(), key=lambda item: item[1])) # sort by value\n",
    "res = reduce(reducer_concat, dictionary.items(), [])\n",
    "print(f\"sorted: {res}\")"
   ],
   "metadata": {
    "collapsed": false
   }
  },
  {
   "cell_type": "code",
   "execution_count": 25,
   "outputs": [],
   "source": [
    "# 2"
   ],
   "metadata": {
    "collapsed": false
   }
  },
  {
   "cell_type": "code",
   "execution_count": 26,
   "outputs": [
    {
     "name": "stdout",
     "output_type": "stream",
     "text": [
      "2579\n"
     ]
    }
   ],
   "source": [
    "np.random.seed(1)\n",
    "h, w, color_depth = 64, 64, 4096\n",
    "im = np.random.randint(color_depth, size=(h,w))\n",
    "im = im.ravel()\n",
    "print(len(np.unique(im)))"
   ],
   "metadata": {
    "collapsed": false
   }
  },
  {
   "cell_type": "code",
   "execution_count": 27,
   "outputs": [],
   "source": [
    "# 3"
   ],
   "metadata": {
    "collapsed": false
   }
  },
  {
   "cell_type": "code",
   "execution_count": 28,
   "outputs": [],
   "source": [
    "def moving_avg(vec, per):\n",
    "    cumsum = np.cumsum(np.insert(vec, 0, 0)) # insert 0 to begin and count cumsum\n",
    "    return (cumsum[per:] - cumsum[:-per]) / per"
   ],
   "metadata": {
    "collapsed": false
   }
  },
  {
   "cell_type": "code",
   "execution_count": 29,
   "outputs": [
    {
     "name": "stdout",
     "output_type": "stream",
     "text": [
      "[21.33333333 21.66666667 34.33333333 26.33333333 22.33333333 13.\n",
      " 19.66666667 17.        ]\n"
     ]
    }
   ],
   "source": [
    "np.random.seed(181)\n",
    "vect = np.random.randint(40, size=10)\n",
    "print(moving_avg(vect, 3))"
   ],
   "metadata": {
    "collapsed": false
   }
  },
  {
   "cell_type": "code",
   "execution_count": 30,
   "outputs": [],
   "source": [
    "# 4"
   ],
   "metadata": {
    "collapsed": false
   }
  },
  {
   "cell_type": "code",
   "execution_count": 31,
   "outputs": [
    {
     "name": "stdout",
     "output_type": "stream",
     "text": [
      "[[ 6  8 10]\n",
      " [ 3  4  5]\n",
      " [10 11 18]]\n"
     ]
    }
   ],
   "source": [
    "matrix = np.array([[1, 2, 3],\n",
    "                [6, 8, 10],\n",
    "                [1, 21, 6],\n",
    "                [3, 4, 5],\n",
    "                [10, 11, 18],\n",
    "                [140, 100, 10]])\n",
    "\n",
    "a, b, c = np.hsplit(matrix, 3)\n",
    "# зануление сторон треугольника, если сторона = 0 -> треугольник невозможен\n",
    "# проверка 3 раза, чтобы учесть зануление на предыдущей проверке и получить все стороны = 0\n",
    "a = np.where(a < b + c, a, 0)\n",
    "b = np.where(b < a + c, b, 0)\n",
    "c = np.where(c < a + b, c, 0)\n",
    "\n",
    "a = np.where(a < b + c, a, 0)\n",
    "b = np.where(b < a + c, b, 0)\n",
    "c = np.where(c < a + b, c, 0)\n",
    "\n",
    "a = np.where(a < b + c, a, 0)\n",
    "b = np.where(b < a + c, b, 0)\n",
    "c = np.where(c < a + b, c, 0)\n",
    "\n",
    "a = a[(a > 0)]\n",
    "b = b[(b > 0)]\n",
    "c = c[(c > 0)]\n",
    "\n",
    "res = np.column_stack([a, b, c])\n",
    "print(res)"
   ],
   "metadata": {
    "collapsed": false
   }
  }
 ],
 "metadata": {
  "kernelspec": {
   "display_name": "Python 3",
   "language": "python",
   "name": "python3"
  },
  "language_info": {
   "codemirror_mode": {
    "name": "ipython",
    "version": 2
   },
   "file_extension": ".py",
   "mimetype": "text/x-python",
   "name": "python",
   "nbconvert_exporter": "python",
   "pygments_lexer": "ipython2",
   "version": "2.7.6"
  }
 },
 "nbformat": 4,
 "nbformat_minor": 0
}
