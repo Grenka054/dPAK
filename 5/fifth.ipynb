{
 "cells": [
  {
   "cell_type": "code",
   "execution_count": 8,
   "outputs": [],
   "source": [
    "import numpy as np\n",
    "import pandas as pd"
   ],
   "metadata": {
    "collapsed": false
   }
  },
  {
   "cell_type": "markdown",
   "source": [
    "# 1"
   ],
   "metadata": {
    "collapsed": false
   }
  },
  {
   "cell_type": "code",
   "execution_count": 9,
   "outputs": [
    {
     "name": "stdout",
     "output_type": "stream",
     "text": [
      "0 0.6083059700067814\n",
      "1 0.6088307437641535\n",
      "2 0.7888297918136683\n",
      "3 0.7369399595785642\n",
      "4 0.6833692604632612\n",
      "5 0.4511191641587042\n",
      "6 0.6627503660522434\n",
      "7 0.8020524900727327\n",
      "8 0.6304840550112694\n",
      "9 0.6479659053234821\n"
     ]
    }
   ],
   "source": [
    "np.random.seed(18182)\n",
    "data = np.random.rand(10, 5)\n",
    "df = pd.DataFrame(data)\n",
    "for ind, row in df.iterrows():\n",
    "    print(ind, row[row > 0.3].mean())"
   ],
   "metadata": {
    "collapsed": false
   }
  },
  {
   "cell_type": "markdown",
   "source": [
    "# 2"
   ],
   "metadata": {
    "collapsed": false
   }
  },
  {
   "cell_type": "code",
   "execution_count": 10,
   "outputs": [
    {
     "data": {
      "text/plain": "0     6\n1     4\n2    11\n3     3\n4     3\ndtype: int32"
     },
     "execution_count": 10,
     "metadata": {},
     "output_type": "execute_result"
    }
   ],
   "source": [
    "df = pd.read_csv('data/wells_info.csv')\n",
    "df['CompletionDate'] = pd.to_datetime(df['CompletionDate'])\n",
    "df['SpudDate'] = pd.to_datetime(df['SpudDate'])\n",
    "((df.CompletionDate - df.SpudDate)/np.timedelta64(1, 'M')).astype(int).head()"
   ],
   "metadata": {
    "collapsed": false
   }
  },
  {
   "cell_type": "markdown",
   "source": [
    "# 3"
   ],
   "metadata": {
    "collapsed": false
   }
  },
  {
   "cell_type": "code",
   "execution_count": 11,
   "outputs": [
    {
     "name": "stdout",
     "output_type": "stream",
     "text": [
      "  CompletionDate      FirstProductionDate       formation        BasinName  \\\n",
      "0     2015-09-13  2015-09-01 00:00:00.000          CODELL     DENVER BASIN   \n",
      "1     2015-09-07  2015-09-01 00:00:00.000        NIOBRARA     DENVER BASIN   \n",
      "2     2014-01-07  2015-04-01 00:00:00.000        NIOBRARA     DENVER BASIN   \n",
      "3     2014-01-07  2013-12-01 00:00:00.000     BONE SPRING    PERMIAN BASIN   \n",
      "4     2015-10-10  2015-08-01 00:00:00.000  WOLFCAMP UPPER    PERMIAN BASIN   \n",
      "5     2014-11-05  2014-11-01 00:00:00.000          BAKKEN     DENVER BASIN   \n",
      "6     2014-04-27  2014-04-01 00:00:00.000          BAKKEN  WILLISTON BASIN   \n",
      "\n",
      "      StateName CountyName  \n",
      "0      COLORADO       WELD  \n",
      "1      COLORADO       WELD  \n",
      "2      COLORADO       WELD  \n",
      "3    NEW MEXICO       EDDY  \n",
      "4    NEW MEXICO        LEA  \n",
      "5  NORTH DAKOTA   MCKENZIE  \n",
      "6  NORTH DAKOTA   MCKENZIE  \n"
     ]
    }
   ],
   "source": [
    "df = pd.read_csv('data/wells_info_na.csv')\n",
    "df.select_dtypes(include=np.number).items()\n",
    "# сначала заполнить столбцы числового типа медианой\n",
    "for col_name, col_data in df.select_dtypes(include=np.number).items():\n",
    "    df[col_name] = df[col_name].fillna(np.nanmedian(df[col_name]))\n",
    "# затем остальные модой\n",
    "for col_name, col_data in df.select_dtypes(include=object).items():\n",
    "    df[col_name] = df[col_name].fillna(df[col_name].mode()[0])\n",
    "print(df.select_dtypes(object))"
   ],
   "metadata": {
    "collapsed": false
   }
  },
  {
   "cell_type": "markdown",
   "source": [
    "# 4"
   ],
   "metadata": {
    "collapsed": false
   }
  },
  {
   "cell_type": "code",
   "execution_count": 13,
   "outputs": [
    {
     "data": {
      "text/plain": "               PermitDate    SpudDate CompletionDate      FirstProductionDate  \\\nAPI                                                                             \n5005072170100  2014-05-06  2014-05-06     2014-12-02  2014-11-01 00:00:00.000   \n5123377130000  2013-07-21  2013-10-06     2014-02-26  2014-02-01 00:00:00.000   \n5123379280000  2013-09-08  2013-09-25     2014-09-07  2013-11-01 00:00:00.000   \n5123379400000  2013-09-11  2014-12-05     2015-03-31  2015-03-01 00:00:00.000   \n5123385820100  2014-01-07  2014-01-13     2014-04-23  2014-04-01 00:00:00.000   \n\n                                     operatorNameIHS formation     BasinName  \\\nAPI                                                                            \n5005072170100         BURLINGTON RESOURCES O&G CO LP  NIOBRARA  DENVER BASIN   \n5123377130000                SRC ENERGY INCORPORATED  NIOBRARA  DENVER BASIN   \n5123379280000  BONANZA CREEK ENERGY OPERATING CO LLC  NIOBRARA  DENVER BASIN   \n5123379400000              NOBLE ENERGY INCORPORATED  NIOBRARA  DENVER BASIN   \n5123385820100    GREAT WESTERN OPERATING COMPANY LLC  NIOBRARA  DENVER BASIN   \n\n              StateName CountyName   LatWGS84    LonWGS84  BottomHoleLatitude  \\\nAPI                                                                             \n5005072170100  COLORADO   ARAPAHOE  39.684606 -104.642128            39.68445   \n5123377130000  COLORADO       WELD  40.509320 -104.780980            40.49692   \n5123379280000  COLORADO       WELD  40.335390 -104.363000            40.34780   \n5123379400000  COLORADO       WELD  40.152220 -104.530780            40.17445   \n5123385820100  COLORADO       WELD  40.508303 -104.868180            40.49558   \n\n               BottomHoleLongitude  LATERAL_LENGTH_BLEND  PROP_PER_FOOT  \\\nAPI                                                                       \n5005072170100           -104.60557                9005.0       994.6866   \n5123377130000           -104.77859                4195.0       991.5857   \n5123379280000           -104.36863                4273.0      1000.2760   \n5123379400000           -104.52932                7078.0       973.4437   \n5123385820100           -104.86757                3211.0       783.5919   \n\n               WATER_PER_FOOT  LiquidAllTime  Liquid_12M  \nAPI                                                       \n5005072170100        591.8004         201325      139501  \n5123377130000        628.6321          34625       25118  \n5123379280000        564.4841          69009       49692  \n5123379400000        824.0020          81048       63292  \n5123385820100        603.1414          18050       15569  ",
      "text/html": "<div>\n<style scoped>\n    .dataframe tbody tr th:only-of-type {\n        vertical-align: middle;\n    }\n\n    .dataframe tbody tr th {\n        vertical-align: top;\n    }\n\n    .dataframe thead th {\n        text-align: right;\n    }\n</style>\n<table border=\"1\" class=\"dataframe\">\n  <thead>\n    <tr style=\"text-align: right;\">\n      <th></th>\n      <th>PermitDate</th>\n      <th>SpudDate</th>\n      <th>CompletionDate</th>\n      <th>FirstProductionDate</th>\n      <th>operatorNameIHS</th>\n      <th>formation</th>\n      <th>BasinName</th>\n      <th>StateName</th>\n      <th>CountyName</th>\n      <th>LatWGS84</th>\n      <th>LonWGS84</th>\n      <th>BottomHoleLatitude</th>\n      <th>BottomHoleLongitude</th>\n      <th>LATERAL_LENGTH_BLEND</th>\n      <th>PROP_PER_FOOT</th>\n      <th>WATER_PER_FOOT</th>\n      <th>LiquidAllTime</th>\n      <th>Liquid_12M</th>\n    </tr>\n    <tr>\n      <th>API</th>\n      <th></th>\n      <th></th>\n      <th></th>\n      <th></th>\n      <th></th>\n      <th></th>\n      <th></th>\n      <th></th>\n      <th></th>\n      <th></th>\n      <th></th>\n      <th></th>\n      <th></th>\n      <th></th>\n      <th></th>\n      <th></th>\n      <th></th>\n      <th></th>\n    </tr>\n  </thead>\n  <tbody>\n    <tr>\n      <th>5005072170100</th>\n      <td>2014-05-06</td>\n      <td>2014-05-06</td>\n      <td>2014-12-02</td>\n      <td>2014-11-01 00:00:00.000</td>\n      <td>BURLINGTON RESOURCES O&amp;G CO LP</td>\n      <td>NIOBRARA</td>\n      <td>DENVER BASIN</td>\n      <td>COLORADO</td>\n      <td>ARAPAHOE</td>\n      <td>39.684606</td>\n      <td>-104.642128</td>\n      <td>39.68445</td>\n      <td>-104.60557</td>\n      <td>9005.0</td>\n      <td>994.6866</td>\n      <td>591.8004</td>\n      <td>201325</td>\n      <td>139501</td>\n    </tr>\n    <tr>\n      <th>5123377130000</th>\n      <td>2013-07-21</td>\n      <td>2013-10-06</td>\n      <td>2014-02-26</td>\n      <td>2014-02-01 00:00:00.000</td>\n      <td>SRC ENERGY INCORPORATED</td>\n      <td>NIOBRARA</td>\n      <td>DENVER BASIN</td>\n      <td>COLORADO</td>\n      <td>WELD</td>\n      <td>40.509320</td>\n      <td>-104.780980</td>\n      <td>40.49692</td>\n      <td>-104.77859</td>\n      <td>4195.0</td>\n      <td>991.5857</td>\n      <td>628.6321</td>\n      <td>34625</td>\n      <td>25118</td>\n    </tr>\n    <tr>\n      <th>5123379280000</th>\n      <td>2013-09-08</td>\n      <td>2013-09-25</td>\n      <td>2014-09-07</td>\n      <td>2013-11-01 00:00:00.000</td>\n      <td>BONANZA CREEK ENERGY OPERATING CO LLC</td>\n      <td>NIOBRARA</td>\n      <td>DENVER BASIN</td>\n      <td>COLORADO</td>\n      <td>WELD</td>\n      <td>40.335390</td>\n      <td>-104.363000</td>\n      <td>40.34780</td>\n      <td>-104.36863</td>\n      <td>4273.0</td>\n      <td>1000.2760</td>\n      <td>564.4841</td>\n      <td>69009</td>\n      <td>49692</td>\n    </tr>\n    <tr>\n      <th>5123379400000</th>\n      <td>2013-09-11</td>\n      <td>2014-12-05</td>\n      <td>2015-03-31</td>\n      <td>2015-03-01 00:00:00.000</td>\n      <td>NOBLE ENERGY INCORPORATED</td>\n      <td>NIOBRARA</td>\n      <td>DENVER BASIN</td>\n      <td>COLORADO</td>\n      <td>WELD</td>\n      <td>40.152220</td>\n      <td>-104.530780</td>\n      <td>40.17445</td>\n      <td>-104.52932</td>\n      <td>7078.0</td>\n      <td>973.4437</td>\n      <td>824.0020</td>\n      <td>81048</td>\n      <td>63292</td>\n    </tr>\n    <tr>\n      <th>5123385820100</th>\n      <td>2014-01-07</td>\n      <td>2014-01-13</td>\n      <td>2014-04-23</td>\n      <td>2014-04-01 00:00:00.000</td>\n      <td>GREAT WESTERN OPERATING COMPANY LLC</td>\n      <td>NIOBRARA</td>\n      <td>DENVER BASIN</td>\n      <td>COLORADO</td>\n      <td>WELD</td>\n      <td>40.508303</td>\n      <td>-104.868180</td>\n      <td>40.49558</td>\n      <td>-104.86757</td>\n      <td>3211.0</td>\n      <td>783.5919</td>\n      <td>603.1414</td>\n      <td>18050</td>\n      <td>15569</td>\n    </tr>\n  </tbody>\n</table>\n</div>"
     },
     "execution_count": 13,
     "metadata": {},
     "output_type": "execute_result"
    }
   ],
   "source": [
    "# Liquid only\n",
    "df_wells_info = pd.read_csv('data/wells_info.csv').set_index('API')\n",
    "df_production = pd.read_csv('data/production.csv')\n",
    "liq = df_production.groupby('API').sum(numeric_only=True)\n",
    "liq12 = df_production.groupby('API').apply(lambda x: x.head(12).sum())\n",
    "res = pd.concat([df_wells_info, liq[[\"Liquid\"]]], axis=1)\n",
    "res = res.rename(columns={\"Liquid\": \"LiquidAllTime\"})\n",
    "res = pd.concat([res, liq12[[\"Liquid\"]]], axis=1)\n",
    "res.rename(columns={\"Liquid\": \"Liquid_12M\"}).head()"
   ],
   "metadata": {
    "collapsed": false
   }
  },
  {
   "cell_type": "code",
   "execution_count": 12,
   "outputs": [],
   "source": [],
   "metadata": {
    "collapsed": false
   }
  }
 ],
 "metadata": {
  "kernelspec": {
   "display_name": "Python 3",
   "language": "python",
   "name": "python3"
  },
  "language_info": {
   "codemirror_mode": {
    "name": "ipython",
    "version": 2
   },
   "file_extension": ".py",
   "mimetype": "text/x-python",
   "name": "python",
   "nbconvert_exporter": "python",
   "pygments_lexer": "ipython2",
   "version": "2.7.6"
  }
 },
 "nbformat": 4,
 "nbformat_minor": 0
}
